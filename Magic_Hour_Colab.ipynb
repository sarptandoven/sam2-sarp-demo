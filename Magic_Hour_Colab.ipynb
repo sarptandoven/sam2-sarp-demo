{
  "cells": [
    {
      "cell_type": "raw",
      "metadata": {
        "vscode": {
          "languageId": "raw"
        }
      },
      "source": [
        "# ✨ Magic Hour Video Editor\n",
        "\n",
        "AI-powered video segmentation and editing tool built on SAM2 (Segment Anything Model 2).\n",
        "\n",
        "## Features\n",
        "- 🎬 Real-time object segmentation using SAM2\n",
        "- 🎨 Interactive video editing with multiple objects\n",
        "- 📱 Responsive design that works on desktop and mobile\n",
        "- 🚀 Export binary masks for ComfyUI workflows\n",
        "- ⚡ GPU acceleration support for optimal performance\n",
        "\n",
        "## Setup Instructions\n",
        "1. **Enable GPU**: Go to `Runtime` > `Change runtime type` > Select `GPU` (T4 recommended)\n",
        "2. **Run the setup cell below** - it will install everything automatically\n",
        "3. **Access the interface** using the URLs provided after setup\n",
        "\n",
        "⚠️ **Important**: Make sure GPU is enabled for best performance!\n"
      ]
    },
    {
      "cell_type": "code",
      "execution_count": null,
      "metadata": {},
      "outputs": [],
      "source": [
        "# Check GPU availability\n",
        "import subprocess\n",
        "import os\n",
        "\n",
        "def check_gpu():\n",
        "    try:\n",
        "        result = subprocess.run(['nvidia-smi'], capture_output=True, text=True)\n",
        "        if result.returncode == 0:\n",
        "            print(\"🚀 GPU detected and ready!\")\n",
        "            print(result.stdout.split('\\n')[8])  # GPU info line\n",
        "            return True\n",
        "        else:\n",
        "            print(\"⚠️  No GPU detected. Please enable GPU in Runtime settings.\")\n",
        "            return False\n",
        "    except FileNotFoundError:\n",
        "        print(\"⚠️  nvidia-smi not found. Please enable GPU in Runtime settings.\")\n",
        "        return False\n",
        "\n",
        "gpu_available = check_gpu()\n",
        "\n",
        "if gpu_available:\n",
        "    print(\"\\n✅ Ready to proceed with GPU acceleration!\")\n",
        "else:\n",
        "    print(\"\\n⚠️  Running without GPU will be slower but still functional.\")\n"
      ]
    },
    {
      "cell_type": "code",
      "execution_count": null,
      "metadata": {},
      "outputs": [],
      "source": [
        "# Clone the repository and run setup\n",
        "print(\"📥 Cloning Magic Hour Video Editor...\")\n",
        "!git clone https://github.com/sarptandoven/sam2-sarp-demo.git\n",
        "\n",
        "print(\"\\n📁 Changing to project directory...\")\n",
        "%cd sam2-sarp-demo\n",
        "\n",
        "print(\"\\n🚀 Starting automated setup (this may take 5-10 minutes)...\")\n",
        "print(\"☕ Grab a coffee while we set everything up!\\n\")\n",
        "\n",
        "# Run the setup script\n",
        "!python setup_colab.py\n"
      ]
    },
    {
      "cell_type": "raw",
      "metadata": {
        "vscode": {
          "languageId": "raw"
        }
      },
      "source": [
        "## 🎯 Quick Start Guide\n",
        "\n",
        "Once setup is complete:\n",
        "\n",
        "1. **Access the Interface**: Click the frontend URL provided above\n",
        "2. **Upload Video**: Click \"Change Video\" or select from gallery\n",
        "3. **Track Objects**: Click on objects in the video to start tracking\n",
        "4. **Apply Effects**: Use the toolbar to add effects and annotations\n",
        "5. **Export Results**: Download videos or export binary masks for ComfyUI\n",
        "\n",
        "## 🔧 Advanced Usage\n",
        "\n",
        "### Change Model Size\n",
        "Edit the `.env` file to use different model sizes:\n",
        "- `tiny`: Fastest (149MB) - Good for demos\n",
        "- `small`: Balanced (181MB) - Good speed/accuracy\n",
        "- `base_plus`: Higher accuracy (688MB)\n",
        "- `large`: Best accuracy (901MB) - Requires more GPU memory\n",
        "\n",
        "### Restart Services\n",
        "If something goes wrong, run: `!python setup_colab.py`\n",
        "\n",
        "### Check Status\n",
        "```python\n",
        "!curl http://localhost:7263/health  # Backend health check\n",
        "!ps aux | grep python              # Check running processes\n",
        "```\n"
      ]
    }
  ],
  "metadata": {
    "language_info": {
      "name": "python"
    }
  },
  "nbformat": 4,
  "nbformat_minor": 2
}
