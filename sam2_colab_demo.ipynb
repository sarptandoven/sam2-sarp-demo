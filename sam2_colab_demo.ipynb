{
 "cells": [
  {
   "cell_type": "markdown",
   "metadata": {},
   "source": [
    "# 🚀 SAM2 Video Segmentation Demo\n",
    "\n",
    "[![Open In Colab](https://colab.research.google.com/assets/colab-badge.svg)](https://colab.research.google.com/github/sarptandoven/sam2-sarp-demo/blob/main/SAM2_Colab_Demo.ipynb)\n",
    "\n",
    "**One-click SAM2 video segmentation demo with GPU acceleration and public web access.**\n",
    "\n",
    "## 🔧 Setup Instructions\n",
    "1. **Enable GPU**: `Runtime` → `Change runtime type` → `T4 GPU` (recommended)\n",
    "2. **Run the cell below** (it does everything automatically)\n",
    "3. **Wait 3-5 minutes** for complete setup\n",
    "4. **Click the Frontend URL** to access your demo\n",
    "\n",
    "⚠️ **Important**: GPU is recommended for optimal performance!"
   ]
  },
  {
   "cell_type": "code",
   "execution_count": null,
   "metadata": {},
   "outputs": [],
   "source": [
    "# 🚀 One-Click SAM2 Demo Setup\n",
    "# This cell does everything: clone repo, install dependencies, download models, start services\n",
    "\n",
    "import os\n",
    "import subprocess\n",
    "\n",
    "print(\"🚀 Starting SAM2 Demo setup...\")\n",
    "print(\"This will take 3-5 minutes. Please wait...\\n\")\n",
    "\n",
    "# Clone repository\n",
    "if os.path.exists('sam2-sarp-demo'):\n",
    "    print(\"📁 Repository exists, updating...\")\n",
    "    %cd sam2-sarp-demo\n",
    "    !git pull\n",
    "else:\n",
    "    print(\"📥 Cloning repository...\")\n",
    "    !git clone https://github.com/sarptandoven/sam2-sarp-demo.git\n",
    "    %cd sam2-sarp-demo\n",
    "\n",
    "# Run complete setup\n",
    "print(\"\\n🔧 Running complete setup...\")\n",
    "!python setup_colab.py\n",
    "\n",
    "print(\"\\n✅ Setup complete! Use the Frontend URL above to access your demo.\")"
   ]
  },
  {
   "cell_type": "markdown",
   "metadata": {},
   "source": [
    "# 🎯 How to Use the Demo\n",
    "\n",
    "1. **Access the demo** using the Frontend URL provided above\n",
    "2. **Select a video** from the gallery or upload your own (max 10 seconds, 100MB)\n",
    "3. **Click on objects** in the video to start tracking them\n",
    "4. **Apply effects** using the toolbar (blur background, add overlays, etc.)\n",
    "5. **Export your video** when finished\n",
    "\n",
    "## ✨ Features\n",
    "- 🎯 **Real-time Object Tracking**: Click to track any object\n",
    "- 🎨 **Background Effects**: Blur, replace, or remove backgrounds\n",
    "- 📱 **Mobile Friendly**: Works on phones and tablets\n",
    "- 🚀 **GPU Accelerated**: Fast processing with T4 GPU\n",
    "- 📤 **Video Export**: Download your processed videos\n",
    "\n",
    "## 🆘 Troubleshooting\n",
    "- **If setup fails**: Restart runtime and run the cell again\n",
    "- **If services don't start**: Check that GPU is enabled\n",
    "- **If video upload fails**: Try smaller videos or different formats\n",
    "\n",
    "**Enjoy your SAM2 video segmentation demo! 🎉**"
   ]
  }
 ],
 "metadata": {
  "kernelspec": {
   "display_name": "Python 3",
   "language": "python",
   "name": "python3"
  },
  "language_info": {
   "codemirror_mode": {
    "name": "ipython",
    "version": 3
   },
   "file_extension": ".py",
   "mimetype": "text/x-python",
   "name": "python",
   "nbconvert_exporter": "python",
   "pygments_lexer": "ipython3",
   "version": "3.8.5"
  }
 },
 "nbformat": 4,
 "nbformat_minor": 4
}
